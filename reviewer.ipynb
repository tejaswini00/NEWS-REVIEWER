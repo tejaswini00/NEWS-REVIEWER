{
 "cells": [
  {
   "cell_type": "code",
   "execution_count": 1,
   "metadata": {},
   "outputs": [
    {
     "name": "stdout",
     "output_type": "stream",
     "text": [
      "Requirement already satisfied: newspaper3k in c:\\users\\saite\\anaconda3\\lib\\site-packages (0.2.8)\n",
      "Requirement already satisfied: requests>=2.10.0 in c:\\users\\saite\\anaconda3\\lib\\site-packages (from newspaper3k) (2.22.0)\n",
      "Requirement already satisfied: python-dateutil>=2.5.3 in c:\\users\\saite\\anaconda3\\lib\\site-packages (from newspaper3k) (2.8.1)\n",
      "Requirement already satisfied: lxml>=3.6.0 in c:\\users\\saite\\anaconda3\\lib\\site-packages (from newspaper3k) (4.5.0)\n",
      "Requirement already satisfied: Pillow>=3.3.0 in c:\\users\\saite\\anaconda3\\lib\\site-packages (from newspaper3k) (7.0.0)\n",
      "Requirement already satisfied: feedparser>=5.2.1 in c:\\users\\saite\\anaconda3\\lib\\site-packages (from newspaper3k) (5.2.1)\n",
      "Requirement already satisfied: beautifulsoup4>=4.4.1 in c:\\users\\saite\\anaconda3\\lib\\site-packages (from newspaper3k) (4.8.2)\n",
      "Requirement already satisfied: nltk>=3.2.1 in c:\\users\\saite\\anaconda3\\lib\\site-packages (from newspaper3k) (3.4.5)\n",
      "Requirement already satisfied: jieba3k>=0.35.1 in c:\\users\\saite\\anaconda3\\lib\\site-packages (from newspaper3k) (0.35.1)\n",
      "Requirement already satisfied: cssselect>=0.9.2 in c:\\users\\saite\\anaconda3\\lib\\site-packages (from newspaper3k) (1.1.0)\n",
      "Requirement already satisfied: tldextract>=2.0.1 in c:\\users\\saite\\anaconda3\\lib\\site-packages (from newspaper3k) (2.2.2)\n",
      "Requirement already satisfied: PyYAML>=3.11 in c:\\users\\saite\\anaconda3\\lib\\site-packages (from newspaper3k) (5.3)\n",
      "Requirement already satisfied: feedfinder2>=0.0.4 in c:\\users\\saite\\anaconda3\\lib\\site-packages (from newspaper3k) (0.0.4)\n",
      "Requirement already satisfied: tinysegmenter==0.3 in c:\\users\\saite\\anaconda3\\lib\\site-packages (from newspaper3k) (0.3)\n",
      "Requirement already satisfied: certifi>=2017.4.17 in c:\\users\\saite\\anaconda3\\lib\\site-packages (from requests>=2.10.0->newspaper3k) (2019.11.28)\n",
      "Requirement already satisfied: idna<2.9,>=2.5 in c:\\users\\saite\\anaconda3\\lib\\site-packages (from requests>=2.10.0->newspaper3k) (2.8)\n",
      "Requirement already satisfied: urllib3!=1.25.0,!=1.25.1,<1.26,>=1.21.1 in c:\\users\\saite\\anaconda3\\lib\\site-packages (from requests>=2.10.0->newspaper3k) (1.25.8)\n",
      "Requirement already satisfied: chardet<3.1.0,>=3.0.2 in c:\\users\\saite\\anaconda3\\lib\\site-packages (from requests>=2.10.0->newspaper3k) (3.0.4)\n",
      "Requirement already satisfied: six>=1.5 in c:\\users\\saite\\anaconda3\\lib\\site-packages (from python-dateutil>=2.5.3->newspaper3k) (1.14.0)\n",
      "Requirement already satisfied: soupsieve>=1.2 in c:\\users\\saite\\anaconda3\\lib\\site-packages (from beautifulsoup4>=4.4.1->newspaper3k) (1.9.5)\n",
      "Requirement already satisfied: setuptools in c:\\users\\saite\\anaconda3\\lib\\site-packages (from tldextract>=2.0.1->newspaper3k) (45.2.0.post20200210)\n",
      "Requirement already satisfied: requests-file>=1.4 in c:\\users\\saite\\anaconda3\\lib\\site-packages (from tldextract>=2.0.1->newspaper3k) (1.4.3)\n"
     ]
    }
   ],
   "source": [
    "!pip install newspaper3k"
   ]
  },
  {
   "cell_type": "code",
   "execution_count": 2,
   "metadata": {},
   "outputs": [],
   "source": [
    "import nltk"
   ]
  },
  {
   "cell_type": "code",
   "execution_count": 3,
   "metadata": {},
   "outputs": [
    {
     "name": "stderr",
     "output_type": "stream",
     "text": [
      "[nltk_data] Downloading package punkt to\n",
      "[nltk_data]     C:\\Users\\saite\\AppData\\Roaming\\nltk_data...\n",
      "[nltk_data]   Package punkt is already up-to-date!\n"
     ]
    },
    {
     "data": {
      "text/plain": [
       "True"
      ]
     },
     "execution_count": 3,
     "metadata": {},
     "output_type": "execute_result"
    }
   ],
   "source": [
    "nltk.download('punkt')"
   ]
  },
  {
   "cell_type": "code",
   "execution_count": 4,
   "metadata": {},
   "outputs": [
    {
     "name": "stdout",
     "output_type": "stream",
     "text": [
      "Article's Title:\n",
      "Odisha Lockdown: Lockdown in Odisha extended till April 30; educational institutions to remain shut till June 17\n",
      "n\n",
      "Article's Text:\n",
      "Naveen Patnaik (File photo)\n",
      "\n",
      "Download The Times of India News App for Latest City News\n",
      "\n",
      "Subscribe Start Your Daily Mornings with Times of India Newspaper! Order Now\n",
      "\n",
      "BHUBANESWAR: Chief minister Naveen Patnaik on Thursday announced to extend the on-going lockdown scheduled till April 14 to April 30 in Odisha, taking a lead over other states and Centre in taking such a decision.After chairing a cabinet meeting over video-conferencing, Naveen in a video message released to media said, “The State Cabinet which met today decided that saving the lives of our people is the top most priority at this juncture. Accordingly we have decided to extend the lockdown till April 30th.”While the Centre seems to be in favour of extending the lockdown too, it has not made its decision public yet.“We will recommend to Government of India to extend the national lockdown up to 30th April,” Naveen said, adding “At this crucial juncture one has to decide between protecting lives of people and economic activity.”Thanking the 4.5 crore people of Odisha for the support and cooperation in this serious crisis situation, Naveen said, “I know it involves a lot of sacrifice, hardship and uncertainty but this is the only way to face this crisis.”Naveen said discipline and sacrifice has helped the state in keeping the Covid-19 positive cases low.Odisha has reported 42 Covid-19 positive cases from March 15 when the state reported the first case. In the same period, US - a Superpower, has moved from 3,000 to 4 lakh cases. The United States has lost more people to Covid-19 than all the wars and 9/11 attack put together. They have still not locked down the country as a whole, Naveen said.Naveen said the state will also request the Union government not to start Airlines and Railway services till April 30.\"As regards people from Odisha who are stranded in various parts of the country, our intervention for their well-being will be through the concerned stae governments. Odisha will take care of all the people who are stranded in Odisha,\" he said.The CM said activities related to agriculture, animal husbandry and MGNREGS will be facilitated during the lockdown period following social distancing norms.Stating that food security of the people is a major priority of the state, the CM said there will not be any problem in transport of goods. “We are leaving no stone unturned in scaling up Covid-19 testing and treatment facilities. We propose to do one lakh rapid testing in the state at the earliest possible time,” Naveen said.The educational institutions will remain closed till June 17, he said.“Coronavirus is the biggest threat that the human race has faced in more than a century. Life will not be the same ever. All of us must understand this and face it boldly together. With our sacrifice and with the blessings of the Lord Jagannath this too shall pass,” Naveen said.In Video: Covid-19: Odisha CM Naveen Patnaik extends lockdown till April 30\n",
      "n\n",
      "Article's Summary:\n",
      "Naveen Patnaik (File photo)Download The Times of India News App for Latest City NewsSubscribe Start Your Daily Mornings with Times of India Newspaper!\n",
      "The United States has lost more people to Covid-19 than all the wars and 9/11 attack put together.\n",
      "\"As regards people from Odisha who are stranded in various parts of the country, our intervention for their well-being will be through the concerned stae governments.\n",
      "“We are leaving no stone unturned in scaling up Covid-19 testing and treatment facilities.\n",
      "With our sacrifice and with the blessings of the Lord Jagannath this too shall pass,” Naveen said.In Video: Covid-19: Odisha CM Naveen Patnaik extends lockdown till April 30\n",
      "n\n",
      "Article's Keywords:\n",
      "['odisha', 'naveen', 'india', 'covid19', '17', 'sacrifice', 'educational', 'patnaik', 'remain', 'till', 'lockdown', 'institutions', 'extended', 'extend', '30', 'state', 'shut']\n"
     ]
    }
   ],
   "source": [
    "from newspaper import Article \n",
    "  \n",
    "#A new article from TOI \n",
    "url = \"https://timesofindia.indiatimes.com/city/bhubaneswar/lockdown-in-odisha-extended-till-april-30-educational-institutions-to-remain-shut-till-june-17/articleshow/75061287.cms\"\n",
    "  \n",
    "#For different language newspaper refer above table \n",
    "toi_article = Article(url, language=\"en\") # en for English \n",
    "  \n",
    "#To download the article \n",
    "toi_article.download() \n",
    "  \n",
    "#To parse the article \n",
    "toi_article.parse() \n",
    "  \n",
    "#To perform natural language processing ie..nlp \n",
    "toi_article.nlp() \n",
    "  \n",
    "#To extract title \n",
    "print(\"Article's Title:\") \n",
    "print(toi_article.title) \n",
    "print(\"n\") \n",
    "  \n",
    "#To extract text \n",
    "print(\"Article's Text:\") \n",
    "print(toi_article.text) \n",
    "print(\"n\") \n",
    "  \n",
    "#To extract summary \n",
    "print(\"Article's Summary:\") \n",
    "print(toi_article.summary) \n",
    "print(\"n\") \n",
    "  \n",
    "#To extract keywords \n",
    "print(\"Article's Keywords:\") \n",
    "print(toi_article.keywords) "
   ]
  },
  {
   "cell_type": "code",
   "execution_count": null,
   "metadata": {},
   "outputs": [],
   "source": []
  }
 ],
 "metadata": {
  "kernelspec": {
   "display_name": "Python 3",
   "language": "python",
   "name": "python3"
  },
  "language_info": {
   "codemirror_mode": {
    "name": "ipython",
    "version": 3
   },
   "file_extension": ".py",
   "mimetype": "text/x-python",
   "name": "python",
   "nbconvert_exporter": "python",
   "pygments_lexer": "ipython3",
   "version": "3.7.6"
  }
 },
 "nbformat": 4,
 "nbformat_minor": 4
}
